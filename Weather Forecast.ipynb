{
 "cells": [
  {
   "cell_type": "markdown",
   "metadata": {},
   "source": [
    "Before you start using this library, you need to get your API key here.\n",
    "#### https://darksky.net/dev/register\n",
    "Collect the api key from the below link after registering\n",
    "#### https://darksky.net/dev/account"
   ]
  },
  {
   "cell_type": "code",
   "execution_count": null,
   "metadata": {},
   "outputs": [],
   "source": [
    "## Replace the API_key\n",
    "from darksky import forecast\n",
    "from datetime import date, timedelta\n",
    "\n",
    "COLLEGEPARK = 38.9897, 76.9378\n",
    "\n",
    "weekday = date.today()\n",
    "with forecast('API_Key', *COLLEGEPARK) as collegepark:\n",
    "    print(collegepark.daily.summary, end='\\nDaily Temperature\\n')\n",
    "    for day in collegepark.daily:\n",
    "        day = dict(day = date.strftime(weekday, '%a'),\n",
    "                   sum = day.summary,\n",
    "                   tempMin = day.temperatureMin,\n",
    "                   tempMax = day.temperatureMax,\n",
    "                   rain = day.icon\n",
    "                   )\n",
    "        print('{day}: {sum} Temp range: {tempMin} - {tempMax} Rain:{rain}'.format(**day))\n",
    "        weekday += timedelta(days=1)"
   ]
  },
  {
   "cell_type": "code",
   "execution_count": 49,
   "metadata": {},
   "outputs": [
    {
     "name": "stdout",
     "output_type": "stream",
     "text": [
      "<darksky.forecast.Forecast object at 0x000002D8A73B7E10>\n"
     ]
    }
   ],
   "source": [
    "print(collegepark)"
   ]
  },
  {
   "cell_type": "code",
   "execution_count": 50,
   "metadata": {},
   "outputs": [
    {
     "name": "stdout",
     "output_type": "stream",
     "text": [
      "<darksky.data.DataBlock object at 0x000002D8A73F79E8>\n"
     ]
    }
   ],
   "source": [
    "print (collegepark.daily)"
   ]
  },
  {
   "cell_type": "markdown",
   "metadata": {},
   "source": [
    "#### https://darksky.net/dev/docs#data-point\n",
    "Collect any information you are interested to collect"
   ]
  },
  {
   "cell_type": "code",
   "execution_count": 51,
   "metadata": {},
   "outputs": [
    {
     "name": "stdout",
     "output_type": "stream",
     "text": [
      "87.5\n"
     ]
    }
   ],
   "source": [
    "print (collegepark.apparentTemperature)"
   ]
  },
  {
   "cell_type": "code",
   "execution_count": 52,
   "metadata": {},
   "outputs": [
    {
     "name": "stdout",
     "output_type": "stream",
     "text": [
      "Fri: Mostly cloudy throughout the day. Temp range: 68.07 - 92.32 Minimum Temp. Rain: partly-cloudy-day\n",
      "Sat: Mostly cloudy throughout the day. Temp range: 71.1 - 89.82 Minimum Temp. Rain: partly-cloudy-day\n",
      "Sun: Mostly cloudy throughout the day. Temp range: 68.75 - 85.75 Minimum Temp. Rain: partly-cloudy-day\n",
      "Mon: Mostly cloudy throughout the day. Temp range: 67.19 - 85.95 Minimum Temp. Rain: partly-cloudy-day\n",
      "Tue: Partly cloudy throughout the day and breezy starting in the evening. Temp range: 64.56 - 88.73 Minimum Temp. Rain: wind\n",
      "Wed: Mostly cloudy starting in the evening. Temp range: 68.96 - 91.22 Minimum Temp. Rain: partly-cloudy-night\n",
      "Thu: Mostly cloudy throughout the day. Temp range: 69.95 - 89.51 Minimum Temp. Rain: partly-cloudy-day\n",
      "Fri: Mostly cloudy throughout the day. Temp range: 69.55 - 91.87 Minimum Temp. Rain: partly-cloudy-day\n"
     ]
    }
   ],
   "source": [
    "for day in collegepark.daily:\n",
    "    day = dict(day = date.strftime(weekday, '%a'),\n",
    "    sum = day.summary,\n",
    "    tempMin = day.temperatureMin,\n",
    "    tempMax = day.temperatureMax,\n",
    "    rain = day.icon\n",
    "    )\n",
    "    print('{day}: {sum} Temp range: {tempMin} - {tempMax} Minimum Temp. Rain: {rain}'.format(**day))\n",
    "    weekday += timedelta(days=1)"
   ]
  }
 ],
 "metadata": {
  "kernelspec": {
   "display_name": "Python 3",
   "language": "python",
   "name": "python3"
  },
  "language_info": {
   "codemirror_mode": {
    "name": "ipython",
    "version": 3
   },
   "file_extension": ".py",
   "mimetype": "text/x-python",
   "name": "python",
   "nbconvert_exporter": "python",
   "pygments_lexer": "ipython3",
   "version": "3.6.5"
  }
 },
 "nbformat": 4,
 "nbformat_minor": 2
}
